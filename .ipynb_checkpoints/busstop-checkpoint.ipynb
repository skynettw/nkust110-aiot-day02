{
 "cells": [
  {
   "cell_type": "code",
   "execution_count": 8,
   "metadata": {},
   "outputs": [],
   "source": [
    "import requests\n",
    "import json\n",
    "url = 'https://data.coa.gov.tw/Service/OpenData/FromM/FarmTransData.aspx'\n",
    "jsondata = requests.get(url).text"
   ]
  },
  {
   "cell_type": "code",
   "execution_count": 26,
   "metadata": {},
   "outputs": [
    {
     "name": "stdout",
     "output_type": "stream",
     "text": [
      "done\n"
     ]
    }
   ],
   "source": [
    "data = json.loads(jsondata)\n",
    "for item in data:\n",
    "    try:\n",
    "        if '高麗菜' in item['作物名稱']:\n",
    "            print(item)\n",
    "    except Exception as e:\n",
    "        pass\n",
    "print(\"done\")"
   ]
  },
  {
   "cell_type": "code",
   "execution_count": 28,
   "metadata": {},
   "outputs": [
    {
     "name": "stdout",
     "output_type": "stream",
     "text": [
      "<class 'dict'>\n"
     ]
    }
   ],
   "source": [
    "print(type(data[0]))"
   ]
  },
  {
   "cell_type": "code",
   "execution_count": null,
   "metadata": {},
   "outputs": [],
   "source": []
  },
  {
   "cell_type": "code",
   "execution_count": 29,
   "metadata": {},
   "outputs": [],
   "source": [
    "import requests \n",
    "from bs4 import BeautifulSoup \n",
    "url = 'https://www.nkust.edu.tw/p/403-1000-1363-1.php' \n",
    "html = requests.get(url).text \n",
    "soup = BeautifulSoup(html, 'html.parser') "
   ]
  },
  {
   "cell_type": "code",
   "execution_count": 42,
   "metadata": {},
   "outputs": [
    {
     "name": "stdout",
     "output_type": "stream",
     "text": [
      "https://www.nkust.edu.tw/p/405-1000-45747,c7048.php\n",
      "國際生(International Students)\n",
      "======\n",
      "/p/412-1000-3248.php\n",
      "形象識別系統(校徽)下載\n",
      "======\n",
      "https://www.nkust.edu.tw/p/406-1000-59817,r1363.php\n",
      "高科大衛武營簽署MOU 合作推展南部美感教育及展演活動\n",
      "======\n",
      "https://www.nkust.edu.tw/p/406-1000-59719,r1363.php\n",
      "菲國友人榮任部長 台菲學術交流盼持續深化\n",
      "======\n",
      "https://www.nkust.edu.tw/p/406-1000-59657,r1363.php\n",
      "高科大科工館簽署ＭＯＵ　實驗室退役儀器將成收藏工藝品\n",
      "======\n",
      "https://www.nkust.edu.tw/p/406-1000-59447,r1363.php\n",
      "高科大出版首份永續報告書 目標2028年達成碳中和\n",
      "======\n",
      "https://www.nkust.edu.tw/p/406-1000-59816,r1363.php\n",
      "守護海洋拒絕「網」來 高科大與澎湖縣府號召志工一起清除覆網\n",
      "======\n",
      "https://www.nkust.edu.tw/p/406-1000-59115,r1363.php\n",
      "撒部・噶照用創作傳達海的訊息 建工藝文個展浪漫登場\n",
      "======\n",
      "https://www.nkust.edu.tw/p/406-1000-59067,r1363.php\n",
      "高科大上進夫妻檔假日進修 畢業雙喜臨門迎二寶\n",
      "======\n",
      "https://www.nkust.edu.tw/p/406-1000-58919,r1363.php\n",
      "高科大環境教育推廣攜手USR 邀企業政府一起翻轉在地\n",
      "======\n",
      "https://www.nkust.edu.tw/p/406-1000-58490,r1363.php\n",
      "高科大導入智慧車聯網 助小琉球規劃低碳旅行\n",
      "======\n",
      "https://www.nkust.edu.tw/p/406-1000-58366,r1363.php\n",
      "文創系畢展放視大賞登場 溺水世代躍出水面追夢\n",
      "======\n",
      "https://www.nkust.edu.tw/p/406-1000-58330,r1363.php\n",
      "高科大研發太陽能電動車首亮相 將啟程多次環島試跑\n",
      "======\n",
      "https://www.nkust.edu.tw/p/406-1000-57657,r1363.php\n",
      "高科大多項作品入圍金點新秀 新一代設計展即將揭曉\n",
      "======\n"
     ]
    }
   ],
   "source": [
    "links = soup.find_all(\"a\")\n",
    "for link in links:\n",
    "    if len(link.text.strip())>8:\n",
    "        print(link.text.strip())\n",
    "        print(\"======\")"
   ]
  }
 ],
 "metadata": {
  "kernelspec": {
   "display_name": "Python 3",
   "language": "python",
   "name": "python3"
  },
  "language_info": {
   "codemirror_mode": {
    "name": "ipython",
    "version": 3
   },
   "file_extension": ".py",
   "mimetype": "text/x-python",
   "name": "python",
   "nbconvert_exporter": "python",
   "pygments_lexer": "ipython3",
   "version": "3.7.6"
  }
 },
 "nbformat": 4,
 "nbformat_minor": 4
}
